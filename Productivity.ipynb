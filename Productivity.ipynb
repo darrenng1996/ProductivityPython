{
 "cells": [
  {
   "cell_type": "code",
   "execution_count": 2,
   "metadata": {},
   "outputs": [],
   "source": [
    "import pandas as pd\n",
    "import numpy as np\n",
    "import matplotlib.pyplot as ply"
   ]
  },
  {
   "cell_type": "code",
   "execution_count": 4,
   "metadata": {},
   "outputs": [],
   "source": [
    "worksheet1 = \"shift-data.xlsx\"\n",
    "worksheet2 = \"third-shift-data.xlsx\""
   ]
  },
  {
   "cell_type": "code",
   "execution_count": 5,
   "metadata": {},
   "outputs": [],
   "source": [
    "df1 = pd.read_excel(worksheet1, sheet_name ='first')\n",
    "df2 = pd.read_excel(worksheet1, sheet_name = 'second')\n",
    "df3 = pd.read_excel(worksheet2) "
   ]
  },
  {
   "cell_type": "code",
   "execution_count": 12,
   "metadata": {},
   "outputs": [
    {
     "name": "stdout",
     "output_type": "stream",
     "text": [
      "    Shift  Clock Number      Name    Product  Production Run Time (Min)  \\\n",
      "0       1        123654      Pete  Pepperoni                         46   \n",
      "1       1        123498     Abdul     Cheese                         56   \n",
      "2       1        123999      Emma   Mushroom                         42   \n",
      "3       1        123654      Pete  Pepperoni                         47   \n",
      "4       1        123498     Abdul   Mushroom                         54   \n",
      "5       1        123865  Mohammed     Cheese                         55   \n",
      "6       1        123999      Emma     Cheese                         54   \n",
      "7       1        123654      Pete    Sausage                         29   \n",
      "8       1        123865  Mohammed  Pepperoni                         36   \n",
      "9       1        123999      Emma   Mushroom                         44   \n",
      "10      1        123498     Abdul     Cheese                         40   \n",
      "11      1        123654      Pete    Sausage                         38   \n",
      "12      1        123654      Pete  Pepperoni                         47   \n",
      "13      1        123765     Sofie   Mushroom                         55   \n",
      "14      1        123445      Mike     Cheese                         39   \n",
      "15      1        123999      Emma    Sausage                         47   \n",
      "16      1        123765     Sofie   Mushroom                         43   \n",
      "17      1        123865  Mohammed  Pepperoni                         44   \n",
      "18      1        123445      Mike     Cheese                         57   \n",
      "19      1        123498     Abdul    Sausage                         55   \n",
      "20      1        123654      Pete   Mushroom                         50   \n",
      "21      1        123765     Sofie    Sausage                         49   \n",
      "22      1        123445      Mike  Pepperoni                         38   \n",
      "23      1        123999      Emma     Cheese                         44   \n",
      "24      1        123865  Mohammed   Mushroom                         43   \n",
      "25      1        123865  Mohammed  Pepperoni                         33   \n",
      "26      1        123765     Sofie     Cheese                         39   \n",
      "27      1        123498     Abdul    Sausage                         42   \n",
      "28      1        123654      Pete   Mushroom                         30   \n",
      "\n",
      "    Products Produced (Units)  \n",
      "0                         107  \n",
      "1                          20  \n",
      "2                          65  \n",
      "3                          83  \n",
      "4                          58  \n",
      "5                          51  \n",
      "6                           8  \n",
      "7                          65  \n",
      "8                          79  \n",
      "9                          31  \n",
      "10                         33  \n",
      "11                         89  \n",
      "12                         90  \n",
      "13                         17  \n",
      "14                         82  \n",
      "15                         33  \n",
      "16                         46  \n",
      "17                        134  \n",
      "18                         49  \n",
      "19                         38  \n",
      "20                         46  \n",
      "21                         20  \n",
      "22                         67  \n",
      "23                         40  \n",
      "24                         17  \n",
      "25                         62  \n",
      "26                         51  \n",
      "27                         14  \n",
      "28                         85       Shift  Clock Number       Name    Product  Production Run Time (Min)  \\\n",
      "0       2        223768     Oliver   Mushroom                         45   \n",
      "1       2        223564      Emily  Pepperoni                         52   \n",
      "2       2        223954  Francesco     Cheese                         41   \n",
      "3       2        223564      Emily    Sausage                         39   \n",
      "4       2        223114     Camila   Mushroom                         49   \n",
      "5       2        223114     Camila     Cheese                         55   \n",
      "6       2        223114     Camila  Pepperoni                         52   \n",
      "7       2        223954  Francesco  Pepperoni                         46   \n",
      "8       2        223768     Oliver     Cheese                         37   \n",
      "9       2        223768     Oliver    Sausage                         46   \n",
      "10      2        223564      Emily    Sausage                         35   \n",
      "11      2        223954  Francesco   Mushroom                         47   \n",
      "12      2        223954  Francesco   Mushroom                         44   \n",
      "13      2        223114     Camila    Sausage                         41   \n",
      "14      2        223564      Emily   Mushroom                         37   \n",
      "15      2        223768     Oliver  Pepperoni                         33   \n",
      "16      2        223954  Francesco  Pepperoni                         39   \n",
      "17      2        223564      Emily  Pepperoni                         40   \n",
      "18      2        223114     Camila     Cheese                         50   \n",
      "19      2        223114     Camila     Cheese                         43   \n",
      "20      2        223768     Oliver  Pepperoni                         53   \n",
      "21      2        223954  Francesco  Pepperoni                         55   \n",
      "22      2        223564      Emily     Cheese                         51   \n",
      "23      2        223114     Camila     Cheese                         39   \n",
      "24      2        223768     Oliver     Cheese                         47   \n",
      "25      2        223114     Camila   Mushroom                         36   \n",
      "26      2        223564      Emily   Mushroom                         31   \n",
      "27      2        223954  Francesco    Sausage                         38   \n",
      "28      2        223768     Oliver    Sausage                         46   \n",
      "\n",
      "    Products Produced (Units)  \n",
      "0                          74  \n",
      "1                          92  \n",
      "2                          70  \n",
      "3                          94  \n",
      "4                          89  \n",
      "5                          82  \n",
      "6                          75  \n",
      "7                          66  \n",
      "8                          78  \n",
      "9                          83  \n",
      "10                        101  \n",
      "11                         86  \n",
      "12                        106  \n",
      "13                        110  \n",
      "14                        102  \n",
      "15                         78  \n",
      "16                         94  \n",
      "17                         72  \n",
      "18                         62  \n",
      "19                         76  \n",
      "20                         92  \n",
      "21                        114  \n",
      "22                         70  \n",
      "23                         76  \n",
      "24                         65  \n",
      "25                         30  \n",
      "26                         51  \n",
      "27                         49  \n",
      "28                         86       Shift  Clock Number       Name    Product  Production Run Time (Min)  \\\n",
      "0       3        322976      Chuck     Cheese                         53   \n",
      "1       3        322486       Omar   Mushroom                         47   \n",
      "2       3        322488  Gabrielle   Mushroom                         46   \n",
      "3       3        322488  Gabrielle     Cheese                         49   \n",
      "4       3        322231       Sara  Pepperoni                         39   \n",
      "5       3        322488  Gabrielle  Pepperoni                         38   \n",
      "6       3        322486       Omar     Cheese                         37   \n",
      "7       3        322231       Sara    Sausage                         39   \n",
      "8       3        322976      Chuck    Sausage                         41   \n",
      "9       3        322976      Chuck    Sausage                         42   \n",
      "10      3        322486       Omar     Cheese                         39   \n",
      "11      3        322231       Sara  Pepperoni                         38   \n",
      "12      3        322231       Sara  Pepperoni                         43   \n",
      "13      3        322486       Omar     Cheese                         49   \n",
      "14      3        322976      Chuck   Mushroom                         38   \n",
      "15      3        322231       Sara   Mushroom                         39   \n",
      "16      3        322231       Sara   Mushroom                         45   \n",
      "17      3        322488  Gabrielle     Cheese                         41   \n",
      "18      3        322486       Omar  Pepperoni                         36   \n",
      "19      3        322976      Chuck  Pepperoni                         40   \n",
      "20      3        322976      Chuck  Pepperoni                         49   \n",
      "21      3        322231       Sara    Sausage                         42   \n",
      "22      3        322976      Chuck    Sausage                         49   \n",
      "23      3        322976      Chuck     Cheese                         48   \n",
      "24      3        322488  Gabrielle   Mushroom                         42   \n",
      "25      3        322486       Omar   Mushroom                         43   \n",
      "26      3        322976      Chuck     Cheese                         47   \n",
      "27      3        322488  Gabrielle    Sausage                         45   \n",
      "28      3        322976      Chuck  Pepperoni                         44   \n",
      "\n",
      "    Products Produced (Units)  \n",
      "0                         111  \n",
      "1                         117  \n",
      "2                         123  \n",
      "3                         126  \n",
      "4                         117  \n",
      "5                         114  \n",
      "6                         129  \n",
      "7                         147  \n",
      "8                         114  \n",
      "9                         117  \n",
      "10                        135  \n",
      "11                        123  \n",
      "12                        108  \n",
      "13                        120  \n",
      "14                        147  \n",
      "15                        126  \n",
      "16                        147  \n",
      "17                        144  \n",
      "18                        126  \n",
      "19                        129  \n",
      "20                        141  \n",
      "21                        135  \n",
      "22                        132  \n",
      "23                        120  \n",
      "24                        134  \n",
      "25                        132  \n",
      "26                        143  \n",
      "27                        136  \n",
      "28                        132  \n"
     ]
    }
   ],
   "source": [
    "print(df1,df2,df3)"
   ]
  },
  {
   "cell_type": "markdown",
   "metadata": {},
   "source": [
    "#Join all the tables together "
   ]
  },
  {
   "cell_type": "code",
   "execution_count": 13,
   "metadata": {},
   "outputs": [],
   "source": [
    "df_all = pd.concat([df1,df2,df3])"
   ]
  },
  {
   "cell_type": "code",
   "execution_count": 14,
   "metadata": {},
   "outputs": [
    {
     "name": "stdout",
     "output_type": "stream",
     "text": [
      "    Shift  Clock Number       Name    Product  Production Run Time (Min)  \\\n",
      "0       1        123654       Pete  Pepperoni                         46   \n",
      "1       1        123498      Abdul     Cheese                         56   \n",
      "2       1        123999       Emma   Mushroom                         42   \n",
      "3       1        123654       Pete  Pepperoni                         47   \n",
      "4       1        123498      Abdul   Mushroom                         54   \n",
      "..    ...           ...        ...        ...                        ...   \n",
      "24      3        322488  Gabrielle   Mushroom                         42   \n",
      "25      3        322486       Omar   Mushroom                         43   \n",
      "26      3        322976      Chuck     Cheese                         47   \n",
      "27      3        322488  Gabrielle    Sausage                         45   \n",
      "28      3        322976      Chuck  Pepperoni                         44   \n",
      "\n",
      "    Products Produced (Units)  \n",
      "0                         107  \n",
      "1                          20  \n",
      "2                          65  \n",
      "3                          83  \n",
      "4                          58  \n",
      "..                        ...  \n",
      "24                        134  \n",
      "25                        132  \n",
      "26                        143  \n",
      "27                        136  \n",
      "28                        132  \n",
      "\n",
      "[87 rows x 6 columns]\n"
     ]
    }
   ],
   "source": [
    "print(df_all)"
   ]
  },
  {
   "cell_type": "markdown",
   "metadata": {},
   "source": [
    "Question: Which shift was the most productive in average for creating product?"
   ]
  },
  {
   "cell_type": "markdown",
   "metadata": {},
   "source": [
    "We have to count and seperate \"Shift\" into group using groupby method ; we also take the average on them\n"
   ]
  },
  {
   "cell_type": "code",
   "execution_count": 8,
   "metadata": {},
   "outputs": [],
   "source": [
    "whichShift = df_all.groupby(['Shift']).mean()"
   ]
  },
  {
   "cell_type": "markdown",
   "metadata": {},
   "source": [
    "Now we want to calculate the productivity for each shift. \n",
    "As we can see below, shift 3 is the most productive"
   ]
  },
  {
   "cell_type": "code",
   "execution_count": 9,
   "metadata": {
    "scrolled": true
   },
   "outputs": [
    {
     "name": "stdout",
     "output_type": "stream",
     "text": [
      "       Production Run Time (Min)  Products Produced (Units)\n",
      "Shift                                                      \n",
      "1                      44.689655                  54.482759\n",
      "2                      43.689655                  80.103448\n",
      "3                      43.034483                 128.448276\n"
     ]
    }
   ],
   "source": [
    "shift_productivity = whichShift.loc[:,\"Production Run Time (Min)\":\"Products Produced (Units)\"]\n",
    "print(shift_productivity)"
   ]
  },
  {
   "cell_type": "markdown",
   "metadata": {},
   "source": [
    "Use the data above to produce a graph"
   ]
  },
  {
   "cell_type": "code",
   "execution_count": 11,
   "metadata": {
    "scrolled": true
   },
   "outputs": [
    {
     "data": {
      "text/plain": [
       "<AxesSubplot:xlabel='Shift'>"
      ]
     },
     "execution_count": 11,
     "metadata": {},
     "output_type": "execute_result"
    },
    {
     "data": {
      "image/png": "[encoded data removed]",
      "text/plain": [
       "<Figure size 432x288 with 1 Axes>"
      ]
     },
     "metadata": {
      "needs_background": "light"
     },
     "output_type": "display_data"
    }
   ],
   "source": [
    "shift_productivity.plot(kind='bar')"
   ]
  },
  {
   "cell_type": "markdown",
   "metadata": {},
   "source": [
    "To see which employee is the most productive"
   ]
  },
  {
   "cell_type": "code",
   "execution_count": 22,
   "metadata": {},
   "outputs": [],
   "source": [
    "person = df_all.groupby(['Name']).sum()"
   ]
  },
  {
   "cell_type": "code",
   "execution_count": 28,
   "metadata": {},
   "outputs": [
    {
     "name": "stdout",
     "output_type": "stream",
     "text": [
      "           Production Run Time (Min)  Products Produced (Units)\n",
      "Name                                                           \n",
      "Chuck                            451                       1286\n",
      "Sara                             285                        903\n",
      "Gabrielle                        261                        777\n",
      "Omar                             251                        759\n",
      "Camila                           365                        600\n",
      "Francesco                        310                        585\n",
      "Emily                            285                        582\n",
      "Pete                             287                        565\n",
      "Oliver                           307                        556\n",
      "Mohammed                         211                        343\n",
      "Mike                             134                        198\n",
      "Emma                             231                        177\n",
      "Abdul                            247                        163\n",
      "Sofie                            186                        134\n"
     ]
    }
   ],
   "source": [
    "whichPerson = person.loc[:,\"Production Run Time (Min)\":\"Products Produced (Units)\"].sort_values('Products Produced (Units)', ascending = False)\n",
    "print(whichPerson)"
   ]
  },
  {
   "cell_type": "code",
   "execution_count": 31,
   "metadata": {},
   "outputs": [
    {
     "data": {
      "text/plain": [
       "<AxesSubplot:xlabel='Name'>"
      ]
     },
     "execution_count": 31,
     "metadata": {},
     "output_type": "execute_result"
    },
    {
     "data": {
      "image/png": "[encoded data removed]",
      "text/plain": [
       "<Figure size 432x288 with 1 Axes>"
      ]
     },
     "metadata": {
      "needs_background": "light"
     },
     "output_type": "display_data"
    }
   ],
   "source": [
    "whichPerson.plot(kind='bar')"
   ]
  },
  {
   "cell_type": "markdown",
   "metadata": {},
   "source": [
    "Question: Which product produced the most?"
   ]
  },
  {
   "cell_type": "code",
   "execution_count": 32,
   "metadata": {},
   "outputs": [],
   "source": [
    "product = df_all.groupby(['Product']).sum()"
   ]
  },
  {
   "cell_type": "code",
   "execution_count": 33,
   "metadata": {},
   "outputs": [],
   "source": [
    "whichProduct = product.loc[:,\"Production Run Time (Min)\":\"Products Produced (Units)\"].sort_values(\"Products Produced (Units)\",ascending=False)"
   ]
  },
  {
   "cell_type": "code",
   "execution_count": 34,
   "metadata": {},
   "outputs": [
    {
     "name": "stdout",
     "output_type": "stream",
     "text": [
      "           Production Run Time (Min)  Products Produced (Units)\n",
      "Product                                                        \n",
      "Pepperoni                        988                       2295\n",
      "Cheese                          1110                       1941\n",
      "Mushroom                         950                       1829\n",
      "Sausage                          763                       1563\n"
     ]
    }
   ],
   "source": [
    "print(whichProduct)"
   ]
  },
  {
   "cell_type": "code",
   "execution_count": 36,
   "metadata": {},
   "outputs": [
    {
     "data": {
      "text/plain": [
       "<AxesSubplot:xlabel='Product'>"
      ]
     },
     "execution_count": 36,
     "metadata": {},
     "output_type": "execute_result"
    },
    {
     "data": {
      "image/png": "[encoded data removed]",
      "text/plain": [
       "<Figure size 432x288 with 1 Axes>"
      ]
     },
     "metadata": {
      "needs_background": "light"
     },
     "output_type": "display_data"
    }
   ],
   "source": [
    "whichProduct.plot(kind='bar')"
   ]
  },
  {
   "cell_type": "code",
   "execution_count": null,
   "metadata": {},
   "outputs": [],
   "source": []
  }
 ],
 "metadata": {
  "kernelspec": {
   "display_name": "Python 3",
   "language": "python",
   "name": "python3"
  },
  "language_info": {
   "codemirror_mode": {
    "name": "ipython",
    "version": 3
   },
   "file_extension": ".py",
   "mimetype": "text/x-python",
   "name": "python",
   "nbconvert_exporter": "python",
   "pygments_lexer": "ipython3",
   "version": "3.8.5"
  }
 },
 "nbformat": 4,
 "nbformat_minor": 4
}
